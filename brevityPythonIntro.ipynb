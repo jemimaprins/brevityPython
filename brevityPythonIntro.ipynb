{
  "nbformat": 4,
  "nbformat_minor": 0,
  "metadata": {
    "colab": {
      "provenance": [],
      "authorship_tag": "ABX9TyON6xRmVxAEd7jiwO+Zj9FL",
      "include_colab_link": true
    },
    "kernelspec": {
      "name": "python3",
      "display_name": "Python 3"
    },
    "language_info": {
      "name": "python"
    }
  },
  "cells": [
    {
      "cell_type": "markdown",
      "metadata": {
        "id": "view-in-github",
        "colab_type": "text"
      },
      "source": [
        "<a href=\"https://colab.research.google.com/github/jemimaprins/brevityPython/blob/main/brevityPythonIntro.ipynb\" target=\"_parent\"><img src=\"https://colab.research.google.com/assets/colab-badge.svg\" alt=\"Open In Colab\"/></a>"
      ]
    },
    {
      "cell_type": "markdown",
      "source": [
        "Meeting Agenda\n",
        "\n",
        "\n",
        "1.   Everyone create a github account\n",
        "2.   Everyone to download google colab\n",
        "3.   Add everyone as a collaborator\n",
        "4.   Hello World\n",
        "5.   Python function\n",
        "6.   Importing python libraries\n",
        "6.   Using bard\n",
        "7.   Adding csv files\n",
        "8.   File history and development\n",
        "9.   Adding branches\n",
        ""
      ],
      "metadata": {
        "id": "fugnF_bpnR3e"
      }
    },
    {
      "cell_type": "code",
      "source": [
        "#Within code blocks you can use the hashtag to write comments\n",
        "g = 9.81 #This is helpful to define variables. g is the gravitional acceleration"
      ],
      "metadata": {
        "id": "7S8NEuqWnb07"
      },
      "execution_count": null,
      "outputs": []
    },
    {
      "cell_type": "code",
      "source": [
        "4. Hello World"
      ],
      "metadata": {
        "id": "KywBThEW4whE"
      },
      "execution_count": null,
      "outputs": []
    },
    {
      "cell_type": "code",
      "source": [
        "#Hello world\n",
        "print(\"hello world\")"
      ],
      "metadata": {
        "colab": {
          "base_uri": "https://localhost:8080/"
        },
        "id": "uuMWWu7SoNvJ",
        "outputId": "2b630684-19ae-4c15-c532-c6c78ff8e936"
      },
      "execution_count": 1,
      "outputs": [
        {
          "output_type": "stream",
          "name": "stdout",
          "text": [
            "hello world\n"
          ]
        }
      ]
    },
    {
      "cell_type": "markdown",
      "source": [
        "5. Python Functions"
      ],
      "metadata": {
        "id": "H2sQq0S24z-U"
      }
    },
    {
      "cell_type": "code",
      "source": [
        "#Here is a python function\n",
        "def my_function(input_1, input_2, input_3):\n",
        "  y = (input_1+input_2)**input_3\n",
        "  return y\n",
        "\n",
        "#Now to use that function\n",
        "myfavNumber = my_function(1,4,3)\n",
        "print(\"My Favourite number is\", myfavNumber, \".\")"
      ],
      "metadata": {
        "colab": {
          "base_uri": "https://localhost:8080/"
        },
        "id": "hiCPKYrUoaZA",
        "outputId": "48b1f07e-941b-4589-a66c-fbc432fa7f38"
      },
      "execution_count": 3,
      "outputs": [
        {
          "output_type": "stream",
          "name": "stdout",
          "text": [
            "My Favourite number is 125 .\n"
          ]
        }
      ]
    },
    {
      "cell_type": "markdown",
      "source": [
        "6. Importing Python Libraries"
      ],
      "metadata": {
        "id": "HKIOfr6T45jU"
      }
    },
    {
      "cell_type": "code",
      "source": [
        "#You can also import libraries\n",
        "#Some important ones include numpy, pandas, matplotlib\n",
        "\n",
        "#This is how you import libraries\n",
        "import numpy as np\n",
        "import pandas as pd\n",
        "import matplotlib as plt\n",
        "\n",
        "#Here are some things you might use numpy for - create an array with column names\n",
        "data = np.array([(1, 2, 3), (4, 5, 6), (7, 8, 9)], dtype=[(\"a\", \"i4\"), (\"b\",\"i4\"), (\"c\", \"i4\")])\n",
        "print(\"Numpy Array:\")\n",
        "print(data)\n",
        "\n",
        "\n",
        "#Here are some things you might use pandas for - create a dataframe from an array\n",
        "df3 = pd.DataFrame(data, columns=['c', 'a'])\n",
        "print(\"Dataframe:\")\n",
        "print(df3)"
      ],
      "metadata": {
        "colab": {
          "base_uri": "https://localhost:8080/"
        },
        "id": "KARll0ygpDnQ",
        "outputId": "59968165-a018-4e82-97a9-a92f34ed3c74"
      },
      "execution_count": 14,
      "outputs": [
        {
          "output_type": "stream",
          "name": "stdout",
          "text": [
            "Numpy Array:\n",
            "[(1, 2, 3) (4, 5, 6) (7, 8, 9)]\n",
            "Dataframe:\n",
            "   c  a\n",
            "0  3  1\n",
            "1  6  4\n",
            "2  9  7\n"
          ]
        }
      ]
    },
    {
      "cell_type": "markdown",
      "source": [
        "7. Using Bard"
      ],
      "metadata": {
        "id": "MHOYZ9q_4_Hh"
      }
    },
    {
      "cell_type": "code",
      "source": [
        "#You can give bard a prompt - and it will generate code or functions for you. - Like this one. MAKE SURE YOU CHECK IT THOUGH (BE SKEPTICAL!!!)\n",
        "def calculate_stress(moment, inertia, c):\n",
        "  \"\"\"\n",
        "  Calculates the bending stress in a beam.\n",
        "\n",
        "  Args:\n",
        "    moment: The maximum bending moment in the beam.\n",
        "    inertia: The moment of inertia of the beam.\n",
        "    c: The distance from the base of the beam to the neutral axis.\n",
        "\n",
        "  Returns:\n",
        "    The bending stress in the beam.\n",
        "  \"\"\"\n",
        "\n",
        "  stress = moment * c / inertia\n",
        "  return stress\n",
        "\n",
        "if __name__ == \"__main__\":\n",
        "  moment = 10000\n",
        "  inertia = 100000\n",
        "  c = 5\n",
        "  stress = calculate_stress(moment, inertia, c)\n",
        "  print(f\"The bending stress in the beam is {stress} psi.\")"
      ],
      "metadata": {
        "id": "WMhQvFQE4cii"
      },
      "execution_count": null,
      "outputs": []
    },
    {
      "cell_type": "markdown",
      "source": [
        "8. Adding csv files"
      ],
      "metadata": {
        "id": "hkA8pGaA5C4h"
      }
    },
    {
      "cell_type": "code",
      "source": [
        "#We add csv files from github - NOT from google drive - this ensures anyone can run your code even without access to your google drive.\n",
        "#Copy and paste the code below\n",
        "!pip install git+https://github.com/Constratum/product-data.git\n",
        "\n",
        "from product_data import constratum_product_data_in\n",
        "tiles = constratum_product_data_in.get_df_from_file_name(\"Ceiling Tiles.csv\")\n",
        "\n",
        "tiles"
      ],
      "metadata": {
        "colab": {
          "base_uri": "https://localhost:8080/",
          "height": 867
        },
        "id": "1xnJhtWz5HD9",
        "outputId": "e0b39f25-79ef-4e93-f15e-4bbcced2476b"
      },
      "execution_count": 15,
      "outputs": [
        {
          "output_type": "stream",
          "name": "stdout",
          "text": [
            "Collecting git+https://github.com/Constratum/product-data.git\n",
            "  Cloning https://github.com/Constratum/product-data.git to /tmp/pip-req-build-zh24ddxw\n",
            "  Running command git clone --filter=blob:none --quiet https://github.com/Constratum/product-data.git /tmp/pip-req-build-zh24ddxw\n",
            "  Resolved https://github.com/Constratum/product-data.git to commit 1863da71042661120e9be4b8546c771a32d46204\n",
            "  Preparing metadata (setup.py) ... \u001b[?25l\u001b[?25hdone\n",
            "Requirement already satisfied: pandas in /usr/local/lib/python3.10/dist-packages (from product-data==0.23) (1.5.3)\n",
            "Requirement already satisfied: python-dateutil>=2.8.1 in /usr/local/lib/python3.10/dist-packages (from pandas->product-data==0.23) (2.8.2)\n",
            "Requirement already satisfied: pytz>=2020.1 in /usr/local/lib/python3.10/dist-packages (from pandas->product-data==0.23) (2022.7.1)\n",
            "Requirement already satisfied: numpy>=1.21.0 in /usr/local/lib/python3.10/dist-packages (from pandas->product-data==0.23) (1.22.4)\n",
            "Requirement already satisfied: six>=1.5 in /usr/local/lib/python3.10/dist-packages (from python-dateutil>=2.8.1->pandas->product-data==0.23) (1.16.0)\n",
            "Building wheels for collected packages: product-data\n",
            "  Building wheel for product-data (setup.py) ... \u001b[?25l\u001b[?25hdone\n",
            "  Created wheel for product-data: filename=product_data-0.23-py3-none-any.whl size=19482 sha256=aac204b0eea3800584e9aa1b0962e1b7e8e5c7829205f4b72938ce3a1ec8e1e3\n",
            "  Stored in directory: /tmp/pip-ephem-wheel-cache-2mohs7li/wheels/2f/dd/d3/a330ef1ad13e1219175bec2381c513957dda1b135459ecaa1a\n",
            "Successfully built product-data\n",
            "Installing collected packages: product-data\n",
            "Successfully installed product-data-0.23\n"
          ]
        },
        {
          "output_type": "execute_result",
          "data": {
            "text/plain": [
              "      Manufacturer              Name  Length (mm)  Width (mm)  Thickness (mm)  \\\n",
              "0    Not Specified          4 kg/sqm         1200         600             NaN   \n",
              "1    Not Specified          4 kg/sqm          600         600             NaN   \n",
              "2    Not Specified          4 kg/sqm         1350         450             NaN   \n",
              "3      Eurocoustic          Minerval         1200         600            12.0   \n",
              "4            Asona         Triton 25         1200         600            25.0   \n",
              "..             ...               ...          ...         ...             ...   \n",
              "150          Asona  MetaPan P series          600         600            30.0   \n",
              "151          Asona  MetaPan P series          600         600            10.0   \n",
              "152          Asona  MetaPan P series          600         600            15.0   \n",
              "153          Asona  MetaPan P series          600         600            20.0   \n",
              "154          Asona  MetaPan P series          600         600            30.0   \n",
              "\n",
              "     NRC (ASTM C 423)  CAC (dB - ASTM E413-10)  Rw (dB - EN ISO 10848)  \\\n",
              "0                 NaN                      NaN                     NaN   \n",
              "1                 NaN                      NaN                     NaN   \n",
              "2                 NaN                      NaN                     NaN   \n",
              "3                 NaN                      NaN                     NaN   \n",
              "4                0.95                     22.0                     NaN   \n",
              "..                ...                      ...                     ...   \n",
              "150              0.10                      NaN                     NaN   \n",
              "151              0.75                      NaN                     NaN   \n",
              "152              0.75                      NaN                     NaN   \n",
              "153              0.75                      NaN                     NaN   \n",
              "154              0.75                      NaN                     NaN   \n",
              "\n",
              "     STC (ASTM E413) Fire Rating (ISO 5660 P1&2)  \\\n",
              "0                NaN                         nan   \n",
              "1                NaN                         nan   \n",
              "2                NaN                         nan   \n",
              "3                NaN                         nan   \n",
              "4                NaN                         1-S   \n",
              "..               ...                         ...   \n",
              "150              NaN                         1-S   \n",
              "151              NaN                         1-S   \n",
              "152              NaN                         1-S   \n",
              "153              NaN                         1-S   \n",
              "154              NaN                         1-S   \n",
              "\n",
              "     Thermal Conductivity (W/mK - DIN 52612)  Thermal Resistance (R value)  \\\n",
              "0                                        NaN                           NaN   \n",
              "1                                        NaN                           NaN   \n",
              "2                                        NaN                           NaN   \n",
              "3                                        NaN                           NaN   \n",
              "4                                        NaN                           0.7   \n",
              "..                                       ...                           ...   \n",
              "150                                      NaN                           NaN   \n",
              "151                                      NaN                           NaN   \n",
              "152                                      NaN                           NaN   \n",
              "153                                      NaN                           NaN   \n",
              "154                                      NaN                           NaN   \n",
              "\n",
              "     Weight (kg/sqm)  \n",
              "0                4.0  \n",
              "1                4.0  \n",
              "2                4.0  \n",
              "3                1.3  \n",
              "4                1.5  \n",
              "..               ...  \n",
              "150              3.0  \n",
              "151              3.0  \n",
              "152              3.0  \n",
              "153              3.0  \n",
              "154              3.0  \n",
              "\n",
              "[155 rows x 13 columns]"
            ],
            "text/html": [
              "\n",
              "\n",
              "  <div id=\"df-8bb28fe6-99f5-4ce6-82a6-b4d8b666ac20\">\n",
              "    <div class=\"colab-df-container\">\n",
              "      <div>\n",
              "<style scoped>\n",
              "    .dataframe tbody tr th:only-of-type {\n",
              "        vertical-align: middle;\n",
              "    }\n",
              "\n",
              "    .dataframe tbody tr th {\n",
              "        vertical-align: top;\n",
              "    }\n",
              "\n",
              "    .dataframe thead th {\n",
              "        text-align: right;\n",
              "    }\n",
              "</style>\n",
              "<table border=\"1\" class=\"dataframe\">\n",
              "  <thead>\n",
              "    <tr style=\"text-align: right;\">\n",
              "      <th></th>\n",
              "      <th>Manufacturer</th>\n",
              "      <th>Name</th>\n",
              "      <th>Length (mm)</th>\n",
              "      <th>Width (mm)</th>\n",
              "      <th>Thickness (mm)</th>\n",
              "      <th>NRC (ASTM C 423)</th>\n",
              "      <th>CAC (dB - ASTM E413-10)</th>\n",
              "      <th>Rw (dB - EN ISO 10848)</th>\n",
              "      <th>STC (ASTM E413)</th>\n",
              "      <th>Fire Rating (ISO 5660 P1&amp;2)</th>\n",
              "      <th>Thermal Conductivity (W/mK - DIN 52612)</th>\n",
              "      <th>Thermal Resistance (R value)</th>\n",
              "      <th>Weight (kg/sqm)</th>\n",
              "    </tr>\n",
              "  </thead>\n",
              "  <tbody>\n",
              "    <tr>\n",
              "      <th>0</th>\n",
              "      <td>Not Specified</td>\n",
              "      <td>4 kg/sqm</td>\n",
              "      <td>1200</td>\n",
              "      <td>600</td>\n",
              "      <td>NaN</td>\n",
              "      <td>NaN</td>\n",
              "      <td>NaN</td>\n",
              "      <td>NaN</td>\n",
              "      <td>NaN</td>\n",
              "      <td>nan</td>\n",
              "      <td>NaN</td>\n",
              "      <td>NaN</td>\n",
              "      <td>4.0</td>\n",
              "    </tr>\n",
              "    <tr>\n",
              "      <th>1</th>\n",
              "      <td>Not Specified</td>\n",
              "      <td>4 kg/sqm</td>\n",
              "      <td>600</td>\n",
              "      <td>600</td>\n",
              "      <td>NaN</td>\n",
              "      <td>NaN</td>\n",
              "      <td>NaN</td>\n",
              "      <td>NaN</td>\n",
              "      <td>NaN</td>\n",
              "      <td>nan</td>\n",
              "      <td>NaN</td>\n",
              "      <td>NaN</td>\n",
              "      <td>4.0</td>\n",
              "    </tr>\n",
              "    <tr>\n",
              "      <th>2</th>\n",
              "      <td>Not Specified</td>\n",
              "      <td>4 kg/sqm</td>\n",
              "      <td>1350</td>\n",
              "      <td>450</td>\n",
              "      <td>NaN</td>\n",
              "      <td>NaN</td>\n",
              "      <td>NaN</td>\n",
              "      <td>NaN</td>\n",
              "      <td>NaN</td>\n",
              "      <td>nan</td>\n",
              "      <td>NaN</td>\n",
              "      <td>NaN</td>\n",
              "      <td>4.0</td>\n",
              "    </tr>\n",
              "    <tr>\n",
              "      <th>3</th>\n",
              "      <td>Eurocoustic</td>\n",
              "      <td>Minerval</td>\n",
              "      <td>1200</td>\n",
              "      <td>600</td>\n",
              "      <td>12.0</td>\n",
              "      <td>NaN</td>\n",
              "      <td>NaN</td>\n",
              "      <td>NaN</td>\n",
              "      <td>NaN</td>\n",
              "      <td>nan</td>\n",
              "      <td>NaN</td>\n",
              "      <td>NaN</td>\n",
              "      <td>1.3</td>\n",
              "    </tr>\n",
              "    <tr>\n",
              "      <th>4</th>\n",
              "      <td>Asona</td>\n",
              "      <td>Triton 25</td>\n",
              "      <td>1200</td>\n",
              "      <td>600</td>\n",
              "      <td>25.0</td>\n",
              "      <td>0.95</td>\n",
              "      <td>22.0</td>\n",
              "      <td>NaN</td>\n",
              "      <td>NaN</td>\n",
              "      <td>1-S</td>\n",
              "      <td>NaN</td>\n",
              "      <td>0.7</td>\n",
              "      <td>1.5</td>\n",
              "    </tr>\n",
              "    <tr>\n",
              "      <th>...</th>\n",
              "      <td>...</td>\n",
              "      <td>...</td>\n",
              "      <td>...</td>\n",
              "      <td>...</td>\n",
              "      <td>...</td>\n",
              "      <td>...</td>\n",
              "      <td>...</td>\n",
              "      <td>...</td>\n",
              "      <td>...</td>\n",
              "      <td>...</td>\n",
              "      <td>...</td>\n",
              "      <td>...</td>\n",
              "      <td>...</td>\n",
              "    </tr>\n",
              "    <tr>\n",
              "      <th>150</th>\n",
              "      <td>Asona</td>\n",
              "      <td>MetaPan P series</td>\n",
              "      <td>600</td>\n",
              "      <td>600</td>\n",
              "      <td>30.0</td>\n",
              "      <td>0.10</td>\n",
              "      <td>NaN</td>\n",
              "      <td>NaN</td>\n",
              "      <td>NaN</td>\n",
              "      <td>1-S</td>\n",
              "      <td>NaN</td>\n",
              "      <td>NaN</td>\n",
              "      <td>3.0</td>\n",
              "    </tr>\n",
              "    <tr>\n",
              "      <th>151</th>\n",
              "      <td>Asona</td>\n",
              "      <td>MetaPan P series</td>\n",
              "      <td>600</td>\n",
              "      <td>600</td>\n",
              "      <td>10.0</td>\n",
              "      <td>0.75</td>\n",
              "      <td>NaN</td>\n",
              "      <td>NaN</td>\n",
              "      <td>NaN</td>\n",
              "      <td>1-S</td>\n",
              "      <td>NaN</td>\n",
              "      <td>NaN</td>\n",
              "      <td>3.0</td>\n",
              "    </tr>\n",
              "    <tr>\n",
              "      <th>152</th>\n",
              "      <td>Asona</td>\n",
              "      <td>MetaPan P series</td>\n",
              "      <td>600</td>\n",
              "      <td>600</td>\n",
              "      <td>15.0</td>\n",
              "      <td>0.75</td>\n",
              "      <td>NaN</td>\n",
              "      <td>NaN</td>\n",
              "      <td>NaN</td>\n",
              "      <td>1-S</td>\n",
              "      <td>NaN</td>\n",
              "      <td>NaN</td>\n",
              "      <td>3.0</td>\n",
              "    </tr>\n",
              "    <tr>\n",
              "      <th>153</th>\n",
              "      <td>Asona</td>\n",
              "      <td>MetaPan P series</td>\n",
              "      <td>600</td>\n",
              "      <td>600</td>\n",
              "      <td>20.0</td>\n",
              "      <td>0.75</td>\n",
              "      <td>NaN</td>\n",
              "      <td>NaN</td>\n",
              "      <td>NaN</td>\n",
              "      <td>1-S</td>\n",
              "      <td>NaN</td>\n",
              "      <td>NaN</td>\n",
              "      <td>3.0</td>\n",
              "    </tr>\n",
              "    <tr>\n",
              "      <th>154</th>\n",
              "      <td>Asona</td>\n",
              "      <td>MetaPan P series</td>\n",
              "      <td>600</td>\n",
              "      <td>600</td>\n",
              "      <td>30.0</td>\n",
              "      <td>0.75</td>\n",
              "      <td>NaN</td>\n",
              "      <td>NaN</td>\n",
              "      <td>NaN</td>\n",
              "      <td>1-S</td>\n",
              "      <td>NaN</td>\n",
              "      <td>NaN</td>\n",
              "      <td>3.0</td>\n",
              "    </tr>\n",
              "  </tbody>\n",
              "</table>\n",
              "<p>155 rows × 13 columns</p>\n",
              "</div>\n",
              "      <button class=\"colab-df-convert\" onclick=\"convertToInteractive('df-8bb28fe6-99f5-4ce6-82a6-b4d8b666ac20')\"\n",
              "              title=\"Convert this dataframe to an interactive table.\"\n",
              "              style=\"display:none;\">\n",
              "\n",
              "  <svg xmlns=\"http://www.w3.org/2000/svg\" height=\"24px\"viewBox=\"0 0 24 24\"\n",
              "       width=\"24px\">\n",
              "    <path d=\"M0 0h24v24H0V0z\" fill=\"none\"/>\n",
              "    <path d=\"M18.56 5.44l.94 2.06.94-2.06 2.06-.94-2.06-.94-.94-2.06-.94 2.06-2.06.94zm-11 1L8.5 8.5l.94-2.06 2.06-.94-2.06-.94L8.5 2.5l-.94 2.06-2.06.94zm10 10l.94 2.06.94-2.06 2.06-.94-2.06-.94-.94-2.06-.94 2.06-2.06.94z\"/><path d=\"M17.41 7.96l-1.37-1.37c-.4-.4-.92-.59-1.43-.59-.52 0-1.04.2-1.43.59L10.3 9.45l-7.72 7.72c-.78.78-.78 2.05 0 2.83L4 21.41c.39.39.9.59 1.41.59.51 0 1.02-.2 1.41-.59l7.78-7.78 2.81-2.81c.8-.78.8-2.07 0-2.86zM5.41 20L4 18.59l7.72-7.72 1.47 1.35L5.41 20z\"/>\n",
              "  </svg>\n",
              "      </button>\n",
              "\n",
              "\n",
              "\n",
              "    <div id=\"df-6a21e1f4-3d19-4496-b6f0-97b2136417d1\">\n",
              "      <button class=\"colab-df-quickchart\" onclick=\"quickchart('df-6a21e1f4-3d19-4496-b6f0-97b2136417d1')\"\n",
              "              title=\"Suggest charts.\"\n",
              "              style=\"display:none;\">\n",
              "\n",
              "<svg xmlns=\"http://www.w3.org/2000/svg\" height=\"24px\"viewBox=\"0 0 24 24\"\n",
              "     width=\"24px\">\n",
              "    <g>\n",
              "        <path d=\"M19 3H5c-1.1 0-2 .9-2 2v14c0 1.1.9 2 2 2h14c1.1 0 2-.9 2-2V5c0-1.1-.9-2-2-2zM9 17H7v-7h2v7zm4 0h-2V7h2v10zm4 0h-2v-4h2v4z\"/>\n",
              "    </g>\n",
              "</svg>\n",
              "      </button>\n",
              "    </div>\n",
              "\n",
              "<style>\n",
              "  .colab-df-quickchart {\n",
              "    background-color: #E8F0FE;\n",
              "    border: none;\n",
              "    border-radius: 50%;\n",
              "    cursor: pointer;\n",
              "    display: none;\n",
              "    fill: #1967D2;\n",
              "    height: 32px;\n",
              "    padding: 0 0 0 0;\n",
              "    width: 32px;\n",
              "  }\n",
              "\n",
              "  .colab-df-quickchart:hover {\n",
              "    background-color: #E2EBFA;\n",
              "    box-shadow: 0px 1px 2px rgba(60, 64, 67, 0.3), 0px 1px 3px 1px rgba(60, 64, 67, 0.15);\n",
              "    fill: #174EA6;\n",
              "  }\n",
              "\n",
              "  [theme=dark] .colab-df-quickchart {\n",
              "    background-color: #3B4455;\n",
              "    fill: #D2E3FC;\n",
              "  }\n",
              "\n",
              "  [theme=dark] .colab-df-quickchart:hover {\n",
              "    background-color: #434B5C;\n",
              "    box-shadow: 0px 1px 3px 1px rgba(0, 0, 0, 0.15);\n",
              "    filter: drop-shadow(0px 1px 2px rgba(0, 0, 0, 0.3));\n",
              "    fill: #FFFFFF;\n",
              "  }\n",
              "</style>\n",
              "\n",
              "    <script>\n",
              "      async function quickchart(key) {\n",
              "        const containerElement = document.querySelector('#' + key);\n",
              "        const charts = await google.colab.kernel.invokeFunction(\n",
              "            'suggestCharts', [key], {});\n",
              "      }\n",
              "    </script>\n",
              "\n",
              "      <script>\n",
              "\n",
              "function displayQuickchartButton(domScope) {\n",
              "  let quickchartButtonEl =\n",
              "    domScope.querySelector('#df-6a21e1f4-3d19-4496-b6f0-97b2136417d1 button.colab-df-quickchart');\n",
              "  quickchartButtonEl.style.display =\n",
              "    google.colab.kernel.accessAllowed ? 'block' : 'none';\n",
              "}\n",
              "\n",
              "        displayQuickchartButton(document);\n",
              "      </script>\n",
              "      <style>\n",
              "    .colab-df-container {\n",
              "      display:flex;\n",
              "      flex-wrap:wrap;\n",
              "      gap: 12px;\n",
              "    }\n",
              "\n",
              "    .colab-df-convert {\n",
              "      background-color: #E8F0FE;\n",
              "      border: none;\n",
              "      border-radius: 50%;\n",
              "      cursor: pointer;\n",
              "      display: none;\n",
              "      fill: #1967D2;\n",
              "      height: 32px;\n",
              "      padding: 0 0 0 0;\n",
              "      width: 32px;\n",
              "    }\n",
              "\n",
              "    .colab-df-convert:hover {\n",
              "      background-color: #E2EBFA;\n",
              "      box-shadow: 0px 1px 2px rgba(60, 64, 67, 0.3), 0px 1px 3px 1px rgba(60, 64, 67, 0.15);\n",
              "      fill: #174EA6;\n",
              "    }\n",
              "\n",
              "    [theme=dark] .colab-df-convert {\n",
              "      background-color: #3B4455;\n",
              "      fill: #D2E3FC;\n",
              "    }\n",
              "\n",
              "    [theme=dark] .colab-df-convert:hover {\n",
              "      background-color: #434B5C;\n",
              "      box-shadow: 0px 1px 3px 1px rgba(0, 0, 0, 0.15);\n",
              "      filter: drop-shadow(0px 1px 2px rgba(0, 0, 0, 0.3));\n",
              "      fill: #FFFFFF;\n",
              "    }\n",
              "  </style>\n",
              "\n",
              "      <script>\n",
              "        const buttonEl =\n",
              "          document.querySelector('#df-8bb28fe6-99f5-4ce6-82a6-b4d8b666ac20 button.colab-df-convert');\n",
              "        buttonEl.style.display =\n",
              "          google.colab.kernel.accessAllowed ? 'block' : 'none';\n",
              "\n",
              "        async function convertToInteractive(key) {\n",
              "          const element = document.querySelector('#df-8bb28fe6-99f5-4ce6-82a6-b4d8b666ac20');\n",
              "          const dataTable =\n",
              "            await google.colab.kernel.invokeFunction('convertToInteractive',\n",
              "                                                     [key], {});\n",
              "          if (!dataTable) return;\n",
              "\n",
              "          const docLinkHtml = 'Like what you see? Visit the ' +\n",
              "            '<a target=\"_blank\" href=https://colab.research.google.com/notebooks/data_table.ipynb>data table notebook</a>'\n",
              "            + ' to learn more about interactive tables.';\n",
              "          element.innerHTML = '';\n",
              "          dataTable['output_type'] = 'display_data';\n",
              "          await google.colab.output.renderOutput(dataTable, element);\n",
              "          const docLink = document.createElement('div');\n",
              "          docLink.innerHTML = docLinkHtml;\n",
              "          element.appendChild(docLink);\n",
              "        }\n",
              "      </script>\n",
              "    </div>\n",
              "  </div>\n"
            ]
          },
          "metadata": {},
          "execution_count": 15
        }
      ]
    },
    {
      "cell_type": "markdown",
      "source": [
        "9. & 10. To be demonstrated on google drive and github\n"
      ],
      "metadata": {
        "id": "uCX7BEVc5oGd"
      }
    },
    {
      "cell_type": "markdown",
      "source": [
        "11. Lets Practise"
      ],
      "metadata": {
        "id": "mSTLFG4j5rVo"
      }
    },
    {
      "cell_type": "code",
      "source": [
        "#Use this code block to write a function\n",
        "#Inputs: length in mm\n",
        "#Outputs: length in m"
      ],
      "metadata": {
        "id": "CQeUqE_K5tpt"
      },
      "execution_count": null,
      "outputs": []
    },
    {
      "cell_type": "code",
      "source": [
        "#Use this code block to write another function - this time use bard to help you out\n",
        "#Use a prompt and sanity check the result - then copy paste here and use it to see if it behaves as you would expect"
      ],
      "metadata": {
        "id": "7mfWnAGP57Cz"
      },
      "execution_count": null,
      "outputs": []
    },
    {
      "cell_type": "code",
      "source": [
        "#Use this code block install and view linings spreadsheet from constratum (clue key piece of code is above)"
      ],
      "metadata": {
        "id": "W2FrLwAj6JgL"
      },
      "execution_count": null,
      "outputs": []
    }
  ]
}